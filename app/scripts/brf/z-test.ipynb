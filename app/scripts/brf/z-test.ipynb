{
 "cells": [
  {
   "cell_type": "code",
   "execution_count": 1,
   "metadata": {},
   "outputs": [
    {
     "data": {
      "text/plain": [
       "True"
      ]
     },
     "execution_count": 1,
     "metadata": {},
     "output_type": "execute_result"
    }
   ],
   "source": [
    "import os\n",
    "from loguru import logger\n",
    "import estoques, produtos, vendas, forca_de_vendas, clientes, envio_email\n",
    "from conn import DatabaseConnection\n",
    "from dotenv import load_dotenv\n",
    "from datetime import datetime\n",
    "\n",
    "load_dotenv()"
   ]
  },
  {
   "cell_type": "code",
   "execution_count": 4,
   "metadata": {},
   "outputs": [],
   "source": [
    "data_pasta = datetime.now().strftime(\"%Y-%m-%d\")\n",
    "directory_path = f'D:/Python/Dusnei-Automation/data_send/brf/{data_pasta}'"
   ]
  },
  {
   "cell_type": "code",
   "execution_count": 5,
   "metadata": {},
   "outputs": [
    {
     "name": "stdout",
     "output_type": "stream",
     "text": [
      "Encontrados 124 arquivos. Apagando...\n",
      "Todos os arquivos foram apagados.\n"
     ]
    }
   ],
   "source": [
    "# Verifica se o diretório existe\n",
    "if os.path.exists(directory_path):\n",
    "    # Lista todos os arquivos no diretório\n",
    "    files = os.listdir(directory_path)\n",
    "\n",
    "    # Verifica se o diretório está vazio\n",
    "    if len(files) == 0:\n",
    "        print(\"O diretório está vazio.\")\n",
    "    else:\n",
    "        print(f\"Encontrados {len(files)} arquivos. Apagando...\")\n",
    "        \n",
    "        # Apaga todos os arquivos no diretório\n",
    "        for file_name in files:\n",
    "            file_path = os.path.join(directory_path, file_name)\n",
    "            try:\n",
    "                if os.path.isfile(file_path) or os.path.islink(file_path):\n",
    "                    os.unlink(file_path)\n",
    "                elif os.path.isdir(file_path):\n",
    "                    os.rmdir(file_path)\n",
    "            except Exception as e:\n",
    "                print(f\"Erro ao apagar {file_path}. Razão: {e}\")\n",
    "        \n",
    "        print(\"Todos os arquivos foram apagados.\")\n",
    "else:\n",
    "    print(\"O diretório não existe.\")"
   ]
  }
 ],
 "metadata": {
  "kernelspec": {
   "display_name": ".venv",
   "language": "python",
   "name": "python3"
  },
  "language_info": {
   "codemirror_mode": {
    "name": "ipython",
    "version": 3
   },
   "file_extension": ".py",
   "mimetype": "text/x-python",
   "name": "python",
   "nbconvert_exporter": "python",
   "pygments_lexer": "ipython3",
   "version": "3.11.4"
  },
  "orig_nbformat": 4
 },
 "nbformat": 4,
 "nbformat_minor": 2
}
