{
 "cells": [
  {
   "cell_type": "code",
   "execution_count": 2,
   "metadata": {},
   "outputs": [
    {
     "data": {
      "text/plain": [
       "True"
      ]
     },
     "execution_count": 2,
     "metadata": {},
     "output_type": "execute_result"
    }
   ],
   "source": [
    "import os\n",
    "import time\n",
    "import openpyxl\n",
    "import pandas as pd\n",
    "from typing import List\n",
    "from loguru import logger\n",
    "from datetime import datetime\n",
    "from dotenv import load_dotenv\n",
    "from sqlalchemy import create_engine, exc\n",
    "\n",
    "\n",
    "\n",
    "load_dotenv()"
   ]
  },
  {
   "cell_type": "code",
   "execution_count": 3,
   "metadata": {},
   "outputs": [],
   "source": [
    "def get_db_engine():\n",
    "    try:\n",
    "        db_url = os.getenv('DUSNEI_URL')\n",
    "        engine = create_engine(db_url)\n",
    "        # Test connection\n",
    "        with engine.connect() as connection:\n",
    "            logger.info('Conexão estabelecida!')\n",
    "            pass\n",
    "        logger.info('Banco de dados conectado!')\n",
    "        return engine\n",
    "    except exc.SQLAlchemyError as e:\n",
    "        logger.info(f\"Error: {e}\")\n",
    "        return None"
   ]
  },
  {
   "cell_type": "code",
   "execution_count": 4,
   "metadata": {},
   "outputs": [
    {
     "name": "stdout",
     "output_type": "stream",
     "text": [
      "['movprodd1223', 'movprodd0124']\n"
     ]
    }
   ],
   "source": [
    "def generate_sql_query() -> List[str]:\n",
    "    current_month = f\"{datetime.now().month:02}\"\n",
    "    current_year = datetime.now().year % 100  # Get the last two digits of the year\n",
    "\n",
    "    last_month = f\"{(datetime.now().month - 1) % 12:02}\"\n",
    "    \n",
    "    if last_month == \"00\":\n",
    "        last_month = \"12\"\n",
    "    \n",
    "    last_year = current_year if datetime.now().month > 1 else current_year - 1\n",
    "\n",
    "    tables = [f\"movprodd{last_month}{last_year}\", f\"movprodd{current_month}{current_year}\"]\n",
    "\n",
    "    return tables\n",
    "\n",
    "print(generate_sql_query())"
   ]
  },
  {
   "cell_type": "code",
   "execution_count": 3,
   "metadata": {},
   "outputs": [
    {
     "name": "stderr",
     "output_type": "stream",
     "text": [
      "\u001b[32m2023-11-07 08:12:16.765\u001b[0m | \u001b[1mINFO    \u001b[0m | \u001b[36m__main__\u001b[0m:\u001b[36mget_db_engine\u001b[0m:\u001b[36m7\u001b[0m - \u001b[1mConexão estabelecida!\u001b[0m\n",
      "\u001b[32m2023-11-07 08:12:16.765\u001b[0m | \u001b[1mINFO    \u001b[0m | \u001b[36m__main__\u001b[0m:\u001b[36mget_db_engine\u001b[0m:\u001b[36m9\u001b[0m - \u001b[1mBanco de dados conectado!\u001b[0m\n"
     ]
    },
    {
     "ename": "ProgrammingError",
     "evalue": "(psycopg2.errors.UndefinedTable) missing FROM-clause entry for table \"prun\"\nLINE 17:                 prun.prun_emb AS embalagem_vend,\n                         ^\n\n[SQL: \n        SELECT \n                mprd.mprd_transacao AS transacao,\n                clie.clie_cnpjcpf AS cnpj_cpf,\n                clie.clie_nome AS nome_clie,\n                mprd.mprd_datamvto AS data_mvto,\n                mprd.mprd_numerodcto AS nfe,\n                prod.prod_codbarras AS cod_barras,\n                prod.prod_pesoliq AS peso,\n                mprd_prod_codigo::TEXT AS cod_prod,\n                TO_CHAR(mprd.mprd_qtde, '00000000000999D9999') AS qtde,\n                TO_CHAR((mprd.mprd_valor / mprd.mprd_qtde), '00999D99') AS valor_unitario_2,\n                TO_CHAR(mprd.mprd_vlrunitario, '00999D99') AS valor_unitario,\n                mprc.mprc_vend_codigo AS cod_vend,\n                mprc.mprc_codentidade AS cod_clie,\n                mprd.mprd_dcto_codigo AS dcto_cod,\n                prun.prun_emb AS embalagem_vend,\n                SUBSTRING(clie.clie_cepres, 1,5) ||'-'|| SUBSTRING(clie.clie_cepres, 6,3) AS cep,\n                mprd.mprd_unid_codigo AS unidade,\n                mprd.mprd_valor AS vendas\n            FROM movprodd0722 AS mprd\n            LEFT JOIN movprodc AS mprc ON mprd.mprd_transacao = mprc.mprc_transacao\n            LEFT JOIN produtos AS prod ON mprd.mprd_prod_codigo = prod.prod_codigo\n            LEFT JOIN clientes AS clie ON mprc.mprc_codentidade = clie.clie_codigo\n            WHERE mprd_status = 'N'\n            AND prod.prod_marca IN ('BRF', 'BRF IN NATURA')\n            AND mprd.mprd_dcto_codigo IN ('6666','6668','7339','7335','7338','7337','7260','7263','7262','7268','7264','7269','7267','7319','7318', '6680','6890')\n            AND mprc.mprc_vend_codigo NOT IN ('0','00','000','0000','')\n            AND mprd.mprd_vlrunitario NOT IN ('0.0100000000')\n            AND clie.clie_cepres NOT IN ('00000-000','','0','00000','00000000')\n            AND clie.clie_cepres > '0'\n            AND clie.clie_cepres NOT IN ('')\n            AND mprd.mprd_datamvto >= '2021-11-01'\n    ]\n(Background on this error at: https://sqlalche.me/e/20/f405)",
     "output_type": "error",
     "traceback": [
      "\u001b[1;31m---------------------------------------------------------------------------\u001b[0m",
      "\u001b[1;31mUndefinedTable\u001b[0m                            Traceback (most recent call last)",
      "File \u001b[1;32mz:\\repositorio\\Dusnei-Automation\\.venv\\Lib\\site-packages\\sqlalchemy\\engine\\base.py:1965\u001b[0m, in \u001b[0;36mConnection._exec_single_context\u001b[1;34m(self, dialect, context, statement, parameters)\u001b[0m\n\u001b[0;32m   1964\u001b[0m     \u001b[39mif\u001b[39;00m \u001b[39mnot\u001b[39;00m evt_handled:\n\u001b[1;32m-> 1965\u001b[0m         \u001b[39mself\u001b[39;49m\u001b[39m.\u001b[39;49mdialect\u001b[39m.\u001b[39;49mdo_execute(\n\u001b[0;32m   1966\u001b[0m             cursor, str_statement, effective_parameters, context\n\u001b[0;32m   1967\u001b[0m         )\n\u001b[0;32m   1969\u001b[0m \u001b[39mif\u001b[39;00m \u001b[39mself\u001b[39m\u001b[39m.\u001b[39m_has_events \u001b[39mor\u001b[39;00m \u001b[39mself\u001b[39m\u001b[39m.\u001b[39mengine\u001b[39m.\u001b[39m_has_events:\n",
      "File \u001b[1;32mz:\\repositorio\\Dusnei-Automation\\.venv\\Lib\\site-packages\\sqlalchemy\\engine\\default.py:921\u001b[0m, in \u001b[0;36mDefaultDialect.do_execute\u001b[1;34m(self, cursor, statement, parameters, context)\u001b[0m\n\u001b[0;32m    920\u001b[0m \u001b[39mdef\u001b[39;00m \u001b[39mdo_execute\u001b[39m(\u001b[39mself\u001b[39m, cursor, statement, parameters, context\u001b[39m=\u001b[39m\u001b[39mNone\u001b[39;00m):\n\u001b[1;32m--> 921\u001b[0m     cursor\u001b[39m.\u001b[39;49mexecute(statement, parameters)\n",
      "\u001b[1;31mUndefinedTable\u001b[0m: missing FROM-clause entry for table \"prun\"\nLINE 17:                 prun.prun_emb AS embalagem_vend,\n                         ^\n",
      "\nThe above exception was the direct cause of the following exception:\n",
      "\u001b[1;31mProgrammingError\u001b[0m                          Traceback (most recent call last)",
      "\u001b[1;32mz:\\repositorio\\Dusnei-Automation\\app\\scripts\\brf\\z-test.ipynb Célula 4\u001b[0m line \u001b[0;36m4\n\u001b[0;32m     <a href='vscode-notebook-cell:/z%3A/repositorio/Dusnei-Automation/app/scripts/brf/z-test.ipynb#W3sZmlsZQ%3D%3D?line=38'>39</a>\u001b[0m     df \u001b[39m=\u001b[39m pd\u001b[39m.\u001b[39mread_sql_query(query, conn)\n\u001b[0;32m     <a href='vscode-notebook-cell:/z%3A/repositorio/Dusnei-Automation/app/scripts/brf/z-test.ipynb#W3sZmlsZQ%3D%3D?line=39'>40</a>\u001b[0m     \u001b[39mreturn\u001b[39;00m df\n\u001b[1;32m---> <a href='vscode-notebook-cell:/z%3A/repositorio/Dusnei-Automation/app/scripts/brf/z-test.ipynb#W3sZmlsZQ%3D%3D?line=41'>42</a>\u001b[0m display(vendas_query(conn))\n",
      "\u001b[1;32mz:\\repositorio\\Dusnei-Automation\\app\\scripts\\brf\\z-test.ipynb Célula 4\u001b[0m line \u001b[0;36m3\n\u001b[0;32m      <a href='vscode-notebook-cell:/z%3A/repositorio/Dusnei-Automation/app/scripts/brf/z-test.ipynb#W3sZmlsZQ%3D%3D?line=2'>3</a>\u001b[0m \u001b[39mdef\u001b[39;00m \u001b[39mvendas_query\u001b[39m(conn):\n\u001b[0;32m      <a href='vscode-notebook-cell:/z%3A/repositorio/Dusnei-Automation/app/scripts/brf/z-test.ipynb#W3sZmlsZQ%3D%3D?line=3'>4</a>\u001b[0m     query \u001b[39m=\u001b[39m (\u001b[39mf\u001b[39m\u001b[39m\"\"\"\u001b[39m\n\u001b[0;32m      <a href='vscode-notebook-cell:/z%3A/repositorio/Dusnei-Automation/app/scripts/brf/z-test.ipynb#W3sZmlsZQ%3D%3D?line=4'>5</a>\u001b[0m \u001b[39m        SELECT \u001b[39m\n\u001b[0;32m      <a href='vscode-notebook-cell:/z%3A/repositorio/Dusnei-Automation/app/scripts/brf/z-test.ipynb#W3sZmlsZQ%3D%3D?line=5'>6</a>\u001b[0m \u001b[39m                mprd.mprd_transacao AS transacao,\u001b[39m\n\u001b[1;32m   (...)\u001b[0m\n\u001b[0;32m     <a href='vscode-notebook-cell:/z%3A/repositorio/Dusnei-Automation/app/scripts/brf/z-test.ipynb#W3sZmlsZQ%3D%3D?line=35'>36</a>\u001b[0m \u001b[39m            AND mprd.mprd_datamvto >= \u001b[39m\u001b[39m'\u001b[39m\u001b[39m2021-11-01\u001b[39m\u001b[39m'\u001b[39m\n\u001b[0;32m     <a href='vscode-notebook-cell:/z%3A/repositorio/Dusnei-Automation/app/scripts/brf/z-test.ipynb#W3sZmlsZQ%3D%3D?line=36'>37</a>\u001b[0m \u001b[39m    \u001b[39m\u001b[39m\"\"\"\u001b[39m)\n\u001b[1;32m---> <a href='vscode-notebook-cell:/z%3A/repositorio/Dusnei-Automation/app/scripts/brf/z-test.ipynb#W3sZmlsZQ%3D%3D?line=38'>39</a>\u001b[0m     df \u001b[39m=\u001b[39m pd\u001b[39m.\u001b[39;49mread_sql_query(query, conn)\n\u001b[0;32m     <a href='vscode-notebook-cell:/z%3A/repositorio/Dusnei-Automation/app/scripts/brf/z-test.ipynb#W3sZmlsZQ%3D%3D?line=39'>40</a>\u001b[0m     \u001b[39mreturn\u001b[39;00m df\n",
      "File \u001b[1;32mz:\\repositorio\\Dusnei-Automation\\.venv\\Lib\\site-packages\\pandas\\io\\sql.py:486\u001b[0m, in \u001b[0;36mread_sql_query\u001b[1;34m(sql, con, index_col, coerce_float, params, parse_dates, chunksize, dtype, dtype_backend)\u001b[0m\n\u001b[0;32m    483\u001b[0m \u001b[39massert\u001b[39;00m dtype_backend \u001b[39mis\u001b[39;00m \u001b[39mnot\u001b[39;00m lib\u001b[39m.\u001b[39mno_default\n\u001b[0;32m    485\u001b[0m \u001b[39mwith\u001b[39;00m pandasSQL_builder(con) \u001b[39mas\u001b[39;00m pandas_sql:\n\u001b[1;32m--> 486\u001b[0m     \u001b[39mreturn\u001b[39;00m pandas_sql\u001b[39m.\u001b[39;49mread_query(\n\u001b[0;32m    487\u001b[0m         sql,\n\u001b[0;32m    488\u001b[0m         index_col\u001b[39m=\u001b[39;49mindex_col,\n\u001b[0;32m    489\u001b[0m         params\u001b[39m=\u001b[39;49mparams,\n\u001b[0;32m    490\u001b[0m         coerce_float\u001b[39m=\u001b[39;49mcoerce_float,\n\u001b[0;32m    491\u001b[0m         parse_dates\u001b[39m=\u001b[39;49mparse_dates,\n\u001b[0;32m    492\u001b[0m         chunksize\u001b[39m=\u001b[39;49mchunksize,\n\u001b[0;32m    493\u001b[0m         dtype\u001b[39m=\u001b[39;49mdtype,\n\u001b[0;32m    494\u001b[0m         dtype_backend\u001b[39m=\u001b[39;49mdtype_backend,\n\u001b[0;32m    495\u001b[0m     )\n",
      "File \u001b[1;32mz:\\repositorio\\Dusnei-Automation\\.venv\\Lib\\site-packages\\pandas\\io\\sql.py:1776\u001b[0m, in \u001b[0;36mSQLDatabase.read_query\u001b[1;34m(self, sql, index_col, coerce_float, parse_dates, params, chunksize, dtype, dtype_backend)\u001b[0m\n\u001b[0;32m   1719\u001b[0m \u001b[39mdef\u001b[39;00m \u001b[39mread_query\u001b[39m(\n\u001b[0;32m   1720\u001b[0m     \u001b[39mself\u001b[39m,\n\u001b[0;32m   1721\u001b[0m     sql: \u001b[39mstr\u001b[39m,\n\u001b[1;32m   (...)\u001b[0m\n\u001b[0;32m   1728\u001b[0m     dtype_backend: DtypeBackend \u001b[39m|\u001b[39m Literal[\u001b[39m\"\u001b[39m\u001b[39mnumpy\u001b[39m\u001b[39m\"\u001b[39m] \u001b[39m=\u001b[39m \u001b[39m\"\u001b[39m\u001b[39mnumpy\u001b[39m\u001b[39m\"\u001b[39m,\n\u001b[0;32m   1729\u001b[0m ) \u001b[39m-\u001b[39m\u001b[39m>\u001b[39m DataFrame \u001b[39m|\u001b[39m Iterator[DataFrame]:\n\u001b[0;32m   1730\u001b[0m \u001b[39m    \u001b[39m\u001b[39m\"\"\"\u001b[39;00m\n\u001b[0;32m   1731\u001b[0m \u001b[39m    Read SQL query into a DataFrame.\u001b[39;00m\n\u001b[0;32m   1732\u001b[0m \n\u001b[1;32m   (...)\u001b[0m\n\u001b[0;32m   1774\u001b[0m \n\u001b[0;32m   1775\u001b[0m \u001b[39m    \"\"\"\u001b[39;00m\n\u001b[1;32m-> 1776\u001b[0m     result \u001b[39m=\u001b[39m \u001b[39mself\u001b[39;49m\u001b[39m.\u001b[39;49mexecute(sql, params)\n\u001b[0;32m   1777\u001b[0m     columns \u001b[39m=\u001b[39m result\u001b[39m.\u001b[39mkeys()\n\u001b[0;32m   1779\u001b[0m     \u001b[39mif\u001b[39;00m chunksize \u001b[39mis\u001b[39;00m \u001b[39mnot\u001b[39;00m \u001b[39mNone\u001b[39;00m:\n",
      "File \u001b[1;32mz:\\repositorio\\Dusnei-Automation\\.venv\\Lib\\site-packages\\pandas\\io\\sql.py:1599\u001b[0m, in \u001b[0;36mSQLDatabase.execute\u001b[1;34m(self, sql, params)\u001b[0m\n\u001b[0;32m   1597\u001b[0m args \u001b[39m=\u001b[39m [] \u001b[39mif\u001b[39;00m params \u001b[39mis\u001b[39;00m \u001b[39mNone\u001b[39;00m \u001b[39melse\u001b[39;00m [params]\n\u001b[0;32m   1598\u001b[0m \u001b[39mif\u001b[39;00m \u001b[39misinstance\u001b[39m(sql, \u001b[39mstr\u001b[39m):\n\u001b[1;32m-> 1599\u001b[0m     \u001b[39mreturn\u001b[39;00m \u001b[39mself\u001b[39;49m\u001b[39m.\u001b[39;49mcon\u001b[39m.\u001b[39;49mexec_driver_sql(sql, \u001b[39m*\u001b[39;49margs)\n\u001b[0;32m   1600\u001b[0m \u001b[39mreturn\u001b[39;00m \u001b[39mself\u001b[39m\u001b[39m.\u001b[39mcon\u001b[39m.\u001b[39mexecute(sql, \u001b[39m*\u001b[39margs)\n",
      "File \u001b[1;32mz:\\repositorio\\Dusnei-Automation\\.venv\\Lib\\site-packages\\sqlalchemy\\engine\\base.py:1774\u001b[0m, in \u001b[0;36mConnection.exec_driver_sql\u001b[1;34m(self, statement, parameters, execution_options)\u001b[0m\n\u001b[0;32m   1769\u001b[0m execution_options \u001b[39m=\u001b[39m \u001b[39mself\u001b[39m\u001b[39m.\u001b[39m_execution_options\u001b[39m.\u001b[39mmerge_with(\n\u001b[0;32m   1770\u001b[0m     execution_options\n\u001b[0;32m   1771\u001b[0m )\n\u001b[0;32m   1773\u001b[0m dialect \u001b[39m=\u001b[39m \u001b[39mself\u001b[39m\u001b[39m.\u001b[39mdialect\n\u001b[1;32m-> 1774\u001b[0m ret \u001b[39m=\u001b[39m \u001b[39mself\u001b[39;49m\u001b[39m.\u001b[39;49m_execute_context(\n\u001b[0;32m   1775\u001b[0m     dialect,\n\u001b[0;32m   1776\u001b[0m     dialect\u001b[39m.\u001b[39;49mexecution_ctx_cls\u001b[39m.\u001b[39;49m_init_statement,\n\u001b[0;32m   1777\u001b[0m     statement,\n\u001b[0;32m   1778\u001b[0m     \u001b[39mNone\u001b[39;49;00m,\n\u001b[0;32m   1779\u001b[0m     execution_options,\n\u001b[0;32m   1780\u001b[0m     statement,\n\u001b[0;32m   1781\u001b[0m     distilled_parameters,\n\u001b[0;32m   1782\u001b[0m )\n\u001b[0;32m   1784\u001b[0m \u001b[39mreturn\u001b[39;00m ret\n",
      "File \u001b[1;32mz:\\repositorio\\Dusnei-Automation\\.venv\\Lib\\site-packages\\sqlalchemy\\engine\\base.py:1844\u001b[0m, in \u001b[0;36mConnection._execute_context\u001b[1;34m(self, dialect, constructor, statement, parameters, execution_options, *args, **kw)\u001b[0m\n\u001b[0;32m   1839\u001b[0m     \u001b[39mreturn\u001b[39;00m \u001b[39mself\u001b[39m\u001b[39m.\u001b[39m_exec_insertmany_context(\n\u001b[0;32m   1840\u001b[0m         dialect,\n\u001b[0;32m   1841\u001b[0m         context,\n\u001b[0;32m   1842\u001b[0m     )\n\u001b[0;32m   1843\u001b[0m \u001b[39melse\u001b[39;00m:\n\u001b[1;32m-> 1844\u001b[0m     \u001b[39mreturn\u001b[39;00m \u001b[39mself\u001b[39;49m\u001b[39m.\u001b[39;49m_exec_single_context(\n\u001b[0;32m   1845\u001b[0m         dialect, context, statement, parameters\n\u001b[0;32m   1846\u001b[0m     )\n",
      "File \u001b[1;32mz:\\repositorio\\Dusnei-Automation\\.venv\\Lib\\site-packages\\sqlalchemy\\engine\\base.py:1984\u001b[0m, in \u001b[0;36mConnection._exec_single_context\u001b[1;34m(self, dialect, context, statement, parameters)\u001b[0m\n\u001b[0;32m   1981\u001b[0m     result \u001b[39m=\u001b[39m context\u001b[39m.\u001b[39m_setup_result_proxy()\n\u001b[0;32m   1983\u001b[0m \u001b[39mexcept\u001b[39;00m \u001b[39mBaseException\u001b[39;00m \u001b[39mas\u001b[39;00m e:\n\u001b[1;32m-> 1984\u001b[0m     \u001b[39mself\u001b[39;49m\u001b[39m.\u001b[39;49m_handle_dbapi_exception(\n\u001b[0;32m   1985\u001b[0m         e, str_statement, effective_parameters, cursor, context\n\u001b[0;32m   1986\u001b[0m     )\n\u001b[0;32m   1988\u001b[0m \u001b[39mreturn\u001b[39;00m result\n",
      "File \u001b[1;32mz:\\repositorio\\Dusnei-Automation\\.venv\\Lib\\site-packages\\sqlalchemy\\engine\\base.py:2339\u001b[0m, in \u001b[0;36mConnection._handle_dbapi_exception\u001b[1;34m(self, e, statement, parameters, cursor, context, is_sub_exec)\u001b[0m\n\u001b[0;32m   2337\u001b[0m \u001b[39melif\u001b[39;00m should_wrap:\n\u001b[0;32m   2338\u001b[0m     \u001b[39massert\u001b[39;00m sqlalchemy_exception \u001b[39mis\u001b[39;00m \u001b[39mnot\u001b[39;00m \u001b[39mNone\u001b[39;00m\n\u001b[1;32m-> 2339\u001b[0m     \u001b[39mraise\u001b[39;00m sqlalchemy_exception\u001b[39m.\u001b[39mwith_traceback(exc_info[\u001b[39m2\u001b[39m]) \u001b[39mfrom\u001b[39;00m \u001b[39me\u001b[39;00m\n\u001b[0;32m   2340\u001b[0m \u001b[39melse\u001b[39;00m:\n\u001b[0;32m   2341\u001b[0m     \u001b[39massert\u001b[39;00m exc_info[\u001b[39m1\u001b[39m] \u001b[39mis\u001b[39;00m \u001b[39mnot\u001b[39;00m \u001b[39mNone\u001b[39;00m\n",
      "File \u001b[1;32mz:\\repositorio\\Dusnei-Automation\\.venv\\Lib\\site-packages\\sqlalchemy\\engine\\base.py:1965\u001b[0m, in \u001b[0;36mConnection._exec_single_context\u001b[1;34m(self, dialect, context, statement, parameters)\u001b[0m\n\u001b[0;32m   1963\u001b[0m                 \u001b[39mbreak\u001b[39;00m\n\u001b[0;32m   1964\u001b[0m     \u001b[39mif\u001b[39;00m \u001b[39mnot\u001b[39;00m evt_handled:\n\u001b[1;32m-> 1965\u001b[0m         \u001b[39mself\u001b[39;49m\u001b[39m.\u001b[39;49mdialect\u001b[39m.\u001b[39;49mdo_execute(\n\u001b[0;32m   1966\u001b[0m             cursor, str_statement, effective_parameters, context\n\u001b[0;32m   1967\u001b[0m         )\n\u001b[0;32m   1969\u001b[0m \u001b[39mif\u001b[39;00m \u001b[39mself\u001b[39m\u001b[39m.\u001b[39m_has_events \u001b[39mor\u001b[39;00m \u001b[39mself\u001b[39m\u001b[39m.\u001b[39mengine\u001b[39m.\u001b[39m_has_events:\n\u001b[0;32m   1970\u001b[0m     \u001b[39mself\u001b[39m\u001b[39m.\u001b[39mdispatch\u001b[39m.\u001b[39mafter_cursor_execute(\n\u001b[0;32m   1971\u001b[0m         \u001b[39mself\u001b[39m,\n\u001b[0;32m   1972\u001b[0m         cursor,\n\u001b[1;32m   (...)\u001b[0m\n\u001b[0;32m   1976\u001b[0m         context\u001b[39m.\u001b[39mexecutemany,\n\u001b[0;32m   1977\u001b[0m     )\n",
      "File \u001b[1;32mz:\\repositorio\\Dusnei-Automation\\.venv\\Lib\\site-packages\\sqlalchemy\\engine\\default.py:921\u001b[0m, in \u001b[0;36mDefaultDialect.do_execute\u001b[1;34m(self, cursor, statement, parameters, context)\u001b[0m\n\u001b[0;32m    920\u001b[0m \u001b[39mdef\u001b[39;00m \u001b[39mdo_execute\u001b[39m(\u001b[39mself\u001b[39m, cursor, statement, parameters, context\u001b[39m=\u001b[39m\u001b[39mNone\u001b[39;00m):\n\u001b[1;32m--> 921\u001b[0m     cursor\u001b[39m.\u001b[39;49mexecute(statement, parameters)\n",
      "\u001b[1;31mProgrammingError\u001b[0m: (psycopg2.errors.UndefinedTable) missing FROM-clause entry for table \"prun\"\nLINE 17:                 prun.prun_emb AS embalagem_vend,\n                         ^\n\n[SQL: \n        SELECT \n                mprd.mprd_transacao AS transacao,\n                clie.clie_cnpjcpf AS cnpj_cpf,\n                clie.clie_nome AS nome_clie,\n                mprd.mprd_datamvto AS data_mvto,\n                mprd.mprd_numerodcto AS nfe,\n                prod.prod_codbarras AS cod_barras,\n                prod.prod_pesoliq AS peso,\n                mprd_prod_codigo::TEXT AS cod_prod,\n                TO_CHAR(mprd.mprd_qtde, '00000000000999D9999') AS qtde,\n                TO_CHAR((mprd.mprd_valor / mprd.mprd_qtde), '00999D99') AS valor_unitario_2,\n                TO_CHAR(mprd.mprd_vlrunitario, '00999D99') AS valor_unitario,\n                mprc.mprc_vend_codigo AS cod_vend,\n                mprc.mprc_codentidade AS cod_clie,\n                mprd.mprd_dcto_codigo AS dcto_cod,\n                prun.prun_emb AS embalagem_vend,\n                SUBSTRING(clie.clie_cepres, 1,5) ||'-'|| SUBSTRING(clie.clie_cepres, 6,3) AS cep,\n                mprd.mprd_unid_codigo AS unidade,\n                mprd.mprd_valor AS vendas\n            FROM movprodd0722 AS mprd\n            LEFT JOIN movprodc AS mprc ON mprd.mprd_transacao = mprc.mprc_transacao\n            LEFT JOIN produtos AS prod ON mprd.mprd_prod_codigo = prod.prod_codigo\n            LEFT JOIN clientes AS clie ON mprc.mprc_codentidade = clie.clie_codigo\n            WHERE mprd_status = 'N'\n            AND prod.prod_marca IN ('BRF', 'BRF IN NATURA')\n            AND mprd.mprd_dcto_codigo IN ('6666','6668','7339','7335','7338','7337','7260','7263','7262','7268','7264','7269','7267','7319','7318', '6680','6890')\n            AND mprc.mprc_vend_codigo NOT IN ('0','00','000','0000','')\n            AND mprd.mprd_vlrunitario NOT IN ('0.0100000000')\n            AND clie.clie_cepres NOT IN ('00000-000','','0','00000','00000000')\n            AND clie.clie_cepres > '0'\n            AND clie.clie_cepres NOT IN ('')\n            AND mprd.mprd_datamvto >= '2021-11-01'\n    ]\n(Background on this error at: https://sqlalche.me/e/20/f405)"
     ]
    }
   ],
   "source": [
    "conn = get_db_engine() \n",
    "\n",
    "def vendas_query(conn):\n",
    "    query = (f\"\"\"\n",
    "        SELECT \n",
    "                mprd.mprd_transacao AS transacao,\n",
    "                clie.clie_cnpjcpf AS cnpj_cpf,\n",
    "                clie.clie_nome AS nome_clie,\n",
    "                mprd.mprd_datamvto AS data_mvto,\n",
    "                mprd.mprd_numerodcto AS nfe,\n",
    "                prod.prod_codbarras AS cod_barras,\n",
    "                prod.prod_pesoliq AS peso,\n",
    "                mprd_prod_codigo::TEXT AS cod_prod,\n",
    "                TO_CHAR(mprd.mprd_qtde, '00000000000999D9999') AS qtde,\n",
    "                TO_CHAR((mprd.mprd_valor / mprd.mprd_qtde), '00999D99') AS valor_unitario_2,\n",
    "                TO_CHAR(mprd.mprd_vlrunitario, '00999D99') AS valor_unitario,\n",
    "                mprc.mprc_vend_codigo AS cod_vend,\n",
    "                mprc.mprc_codentidade AS cod_clie,\n",
    "                mprd.mprd_dcto_codigo AS dcto_cod,\n",
    "                prun.prun_emb AS embalagem_vend,\n",
    "                SUBSTRING(clie.clie_cepres, 1,5) ||'-'|| SUBSTRING(clie.clie_cepres, 6,3) AS cep,\n",
    "                mprd.mprd_unid_codigo AS unidade,\n",
    "                mprd.mprd_valor AS vendas\n",
    "            FROM movprodd1023 AS mprd\n",
    "            INNER JOIN movprodc AS mprc ON mprd.mprd_transacao = mprc.mprc_transacao\n",
    "            INNER JOIN produtos AS prod ON mprd.mprd_prod_codigo = prod.prod_codigo\n",
    "            INNER JOIN clientes AS clie ON mprc.mprc_codentidade = clie.clie_codigo\n",
    "            WHERE mprd_status = 'N'\n",
    "            AND prod.prod_marca IN ('BRF', 'BRF IN NATURA')\n",
    "            AND mprd.mprd_dcto_codigo IN ('6666','6668','7339','7335','7338','7337','7260','7263','7262','7268','7264','7269','7267','7319','7318', '6680','6890')\n",
    "            AND mprc.mprc_vend_codigo NOT IN ('0','00','000','0000','')\n",
    "            AND mprd.mprd_vlrunitario NOT IN ('0.0100000000')\n",
    "            AND clie.clie_cepres NOT IN ('00000-000','','0','00000','00000000')\n",
    "            AND clie.clie_cepres > '0'\n",
    "            AND clie.clie_cepres NOT IN ('')\n",
    "    \"\"\")\n",
    "    # AND mprd.mprd_datamvto >= '2021-11-01'\n",
    "    \n",
    "    df = pd.read_sql_query(query, conn)\n",
    "    return df\n",
    "\n",
    "display(vendas_query(conn))"
   ]
  },
  {
   "cell_type": "code",
   "execution_count": 33,
   "metadata": {},
   "outputs": [
    {
     "name": "stderr",
     "output_type": "stream",
     "text": [
      "\u001b[32m2023-10-30 15:03:09.284\u001b[0m | \u001b[1mINFO    \u001b[0m | \u001b[36m__main__\u001b[0m:\u001b[36mget_db_engine\u001b[0m:\u001b[36m7\u001b[0m - \u001b[1mConexão estabelecida!\u001b[0m\n",
      "\u001b[32m2023-10-30 15:03:09.285\u001b[0m | \u001b[1mINFO    \u001b[0m | \u001b[36m__main__\u001b[0m:\u001b[36mget_db_engine\u001b[0m:\u001b[36m9\u001b[0m - \u001b[1mBanco de dados conectado!\u001b[0m\n",
      "C:\\Users\\Marcelo Dev\\AppData\\Local\\Temp\\ipykernel_18796\\2074581004.py:33: FutureWarning: The behavior of DataFrame concatenation with empty or all-NA entries is deprecated. In a future version, this will no longer exclude empty or all-NA columns when determining the result dtypes. To retain the old behavior, exclude the relevant entries before the concat operation.\n",
      "  df_concatenado = pd.concat(dfs, ignore_index=True)\n"
     ]
    },
    {
     "data": {
      "text/html": [
       "<div>\n",
       "<style scoped>\n",
       "    .dataframe tbody tr th:only-of-type {\n",
       "        vertical-align: middle;\n",
       "    }\n",
       "\n",
       "    .dataframe tbody tr th {\n",
       "        vertical-align: top;\n",
       "    }\n",
       "\n",
       "    .dataframe thead th {\n",
       "        text-align: right;\n",
       "    }\n",
       "</style>\n",
       "<table border=\"1\" class=\"dataframe\">\n",
       "  <thead>\n",
       "    <tr style=\"text-align: right;\">\n",
       "      <th></th>\n",
       "      <th>unidade</th>\n",
       "      <th>vendas</th>\n",
       "      <th>primeira_data</th>\n",
       "      <th>ultima_data</th>\n",
       "      <th>vendas_formatadas</th>\n",
       "    </tr>\n",
       "  </thead>\n",
       "  <tbody>\n",
       "    <tr>\n",
       "      <th>0</th>\n",
       "      <td>001</td>\n",
       "      <td>30982510.70</td>\n",
       "      <td>2021-01-05</td>\n",
       "      <td>2023-10-11</td>\n",
       "      <td>R$ 30.982.510,70</td>\n",
       "    </tr>\n",
       "    <tr>\n",
       "      <th>1</th>\n",
       "      <td>002</td>\n",
       "      <td>5856958.52</td>\n",
       "      <td>2021-01-05</td>\n",
       "      <td>2023-10-11</td>\n",
       "      <td>R$ 5.856.958,52</td>\n",
       "    </tr>\n",
       "    <tr>\n",
       "      <th>2</th>\n",
       "      <td>003</td>\n",
       "      <td>4807841.13</td>\n",
       "      <td>2023-01-02</td>\n",
       "      <td>2023-10-11</td>\n",
       "      <td>R$ 4.807.841,13</td>\n",
       "    </tr>\n",
       "    <tr>\n",
       "      <th>3</th>\n",
       "      <td>010</td>\n",
       "      <td>4869505.21</td>\n",
       "      <td>2021-01-04</td>\n",
       "      <td>2022-12-30</td>\n",
       "      <td>R$ 4.869.505,21</td>\n",
       "    </tr>\n",
       "  </tbody>\n",
       "</table>\n",
       "</div>"
      ],
      "text/plain": [
       "  unidade       vendas primeira_data ultima_data vendas_formatadas\n",
       "0     001  30982510.70    2021-01-05  2023-10-11  R$ 30.982.510,70\n",
       "1     002   5856958.52    2021-01-05  2023-10-11   R$ 5.856.958,52\n",
       "2     003   4807841.13    2023-01-02  2023-10-11   R$ 4.807.841,13\n",
       "3     010   4869505.21    2021-01-04  2022-12-30   R$ 4.869.505,21"
      ]
     },
     "metadata": {},
     "output_type": "display_data"
    }
   ],
   "source": [
    "conn = get_db_engine() \n",
    "\n",
    "def vendas_query(conn):\n",
    "    all_tables = ['movprodd0121', 'movprodd0221', 'movprodd0321', 'movprodd0421', 'movprodd0521', 'movprodd0621', 'movprodd0721', 'movprodd0821', 'movprodd0921', 'movprodd1021', 'movprodd1121', 'movprodd1221','movprodd0122', 'movprodd0222', 'movprodd0322', 'movprodd0422', 'movprodd0522', 'movprodd0622', 'movprodd0722', 'movprodd0822', 'movprodd0922', 'movprodd1022', 'movprodd1122', 'movprodd1222', 'movprodd0123', 'movprodd0223', 'movprodd0323', 'movprodd0423', 'movprodd0523', 'movprodd0623', 'movprodd0723', 'movprodd0823', 'movprodd0923', 'movprodd1023',  'movprodd1123', 'movprodd1223']\n",
    "\n",
    "    dfs = []\n",
    "   \n",
    "    for tables in all_tables:\n",
    "        query = f\"\"\"\n",
    "            SELECT\n",
    "                mprd.mprd_unid_codigo AS unidade,\n",
    "                mprd.mprd_valor AS vendas,\n",
    "                mprd.mprd_datamvto AS data_mvto\n",
    "            FROM\n",
    "                {tables} AS mprd\n",
    "            LEFT JOIN movprodc AS mprc ON mprd.mprd_transacao = mprc.mprc_transacao\n",
    "            LEFT JOIN produtos AS prod ON mprd.mprd_prod_codigo = prod.prod_codigo\n",
    "            LEFT JOIN clientes AS clie ON mprc.mprc_codentidade = clie.clie_codigo\n",
    "            WHERE mprd_status = 'N'\n",
    "            AND prod.prod_marca IN ('BRF', 'BRF IN NATURA')\n",
    "            AND mprd.mprd_dcto_codigo IN ('6666','6668','7339','7335','7338','7337','7260','7263','7262','7268','7264','7269','7267','7319','7318', '6680','6890')\n",
    "            AND mprc.mprc_vend_codigo NOT IN ('0','00','000','0000','')\n",
    "            AND mprd.mprd_vlrunitario NOT IN ('0.0100000000')\n",
    "            AND clie.clie_cepres NOT IN ('00000-000','','0','00000','00000000')\n",
    "            AND clie.clie_cepres > '0'\n",
    "            AND clie.clie_cepres NOT IN ('')\n",
    "            AND mprd.mprd_datamvto <= '2023-10-11'\n",
    "        \"\"\"\n",
    "    \n",
    "        df = pd.read_sql_query(query, conn)\n",
    "        dfs.append(df)\n",
    "    \n",
    "    df_concatenado = pd.concat(dfs, ignore_index=True)\n",
    "    \n",
    "    df_final = df_concatenado.groupby('unidade').agg(\n",
    "        vendas=('vendas', 'sum'),\n",
    "        primeira_data=('data_mvto', 'min'),\n",
    "        ultima_data=('data_mvto', 'max')\n",
    "    ).reset_index()\n",
    "    \n",
    "    def format_currency(value):\n",
    "        return f\"R$ {value:,.2f}\".replace(\",\", \"x\").replace(\".\", \",\").replace(\"x\", \".\")\n",
    "    \n",
    "    df_final['vendas_formatadas'] = df_final['vendas'].apply(format_currency)\n",
    "    \n",
    "    return df_final\n",
    "\n",
    "display(vendas_query(conn))"
   ]
  }
 ],
 "metadata": {
  "kernelspec": {
   "display_name": ".venv",
   "language": "python",
   "name": "python3"
  },
  "language_info": {
   "codemirror_mode": {
    "name": "ipython",
    "version": 3
   },
   "file_extension": ".py",
   "mimetype": "text/x-python",
   "name": "python",
   "nbconvert_exporter": "python",
   "pygments_lexer": "ipython3",
   "version": "3.11.4"
  },
  "orig_nbformat": 4
 },
 "nbformat": 4,
 "nbformat_minor": 2
}
