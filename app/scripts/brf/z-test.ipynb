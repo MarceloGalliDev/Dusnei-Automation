{
 "cells": [
  {
   "cell_type": "code",
   "execution_count": 1,
   "metadata": {},
   "outputs": [
    {
     "data": {
      "text/plain": [
       "True"
      ]
     },
     "execution_count": 1,
     "metadata": {},
     "output_type": "execute_result"
    }
   ],
   "source": [
    "import os\n",
    "import time\n",
    "import openpyxl\n",
    "import pandas as pd\n",
    "from typing import List\n",
    "from loguru import logger\n",
    "from datetime import datetime\n",
    "from dotenv import load_dotenv\n",
    "from sqlalchemy import create_engine, exc\n",
    "\n",
    "\n",
    "\n",
    "load_dotenv()"
   ]
  },
  {
   "cell_type": "code",
   "execution_count": 2,
   "metadata": {},
   "outputs": [],
   "source": [
    "def get_db_engine():\n",
    "    try:\n",
    "        db_url = os.getenv('DUSNEI_URL')\n",
    "        engine = create_engine(db_url)\n",
    "        # Test connection\n",
    "        with engine.connect() as connection:\n",
    "            logger.info('Conexão estabelecida!')\n",
    "            pass\n",
    "        logger.info('Banco de dados conectado!')\n",
    "        return engine\n",
    "    except exc.SQLAlchemyError as e:\n",
    "        logger.info(f\"Error: {e}\")\n",
    "        return None"
   ]
  },
  {
   "cell_type": "code",
   "execution_count": null,
   "metadata": {},
   "outputs": [],
   "source": [
    "def generate_sql_query() -> List[str]:\n",
    "    current_month = f\"{datetime.now().month:02}\"\n",
    "    current_year = datetime.now().year % 100  # Get the last two digits of the year\n",
    "\n",
    "    last_month = f\"{(datetime.now().month - 1) % 12:02}\"\n",
    "    last_year = current_year if datetime.now().month > 1 else current_year - 1\n",
    "\n",
    "    tables = [f\"movprodd{last_month}{last_year}\", f\"movprodd{current_month}{current_year}\"]\n",
    "\n",
    "    return tables\n",
    "\n",
    "print(generate_sql_query())"
   ]
  },
  {
   "cell_type": "code",
   "execution_count": 5,
   "metadata": {},
   "outputs": [
    {
     "name": "stderr",
     "output_type": "stream",
     "text": [
      "\u001b[32m2023-10-23 09:19:42.950\u001b[0m | \u001b[1mINFO    \u001b[0m | \u001b[36m__main__\u001b[0m:\u001b[36mget_db_engine\u001b[0m:\u001b[36m7\u001b[0m - \u001b[1mConexão estabelecida!\u001b[0m\n",
      "\u001b[32m2023-10-23 09:19:42.951\u001b[0m | \u001b[1mINFO    \u001b[0m | \u001b[36m__main__\u001b[0m:\u001b[36mget_db_engine\u001b[0m:\u001b[36m9\u001b[0m - \u001b[1mBanco de dados conectado!\u001b[0m\n"
     ]
    },
    {
     "data": {
      "text/html": [
       "<div>\n",
       "<style scoped>\n",
       "    .dataframe tbody tr th:only-of-type {\n",
       "        vertical-align: middle;\n",
       "    }\n",
       "\n",
       "    .dataframe tbody tr th {\n",
       "        vertical-align: top;\n",
       "    }\n",
       "\n",
       "    .dataframe thead th {\n",
       "        text-align: right;\n",
       "    }\n",
       "</style>\n",
       "<table border=\"1\" class=\"dataframe\">\n",
       "  <thead>\n",
       "    <tr style=\"text-align: right;\">\n",
       "      <th></th>\n",
       "      <th>transacao</th>\n",
       "      <th>cnpj_cpf</th>\n",
       "      <th>nome_clie</th>\n",
       "      <th>data_mvto</th>\n",
       "      <th>nfe</th>\n",
       "      <th>cod_barras</th>\n",
       "      <th>peso</th>\n",
       "      <th>cod_prod</th>\n",
       "      <th>qtde</th>\n",
       "      <th>valor_unitario_2</th>\n",
       "      <th>valor_unitario</th>\n",
       "      <th>cod_vend</th>\n",
       "      <th>cod_clie</th>\n",
       "      <th>dcto_cod</th>\n",
       "      <th>embalagem_vend</th>\n",
       "      <th>cep</th>\n",
       "    </tr>\n",
       "  </thead>\n",
       "  <tbody>\n",
       "  </tbody>\n",
       "</table>\n",
       "</div>"
      ],
      "text/plain": [
       "Empty DataFrame\n",
       "Columns: [transacao, cnpj_cpf, nome_clie, data_mvto, nfe, cod_barras, peso, cod_prod, qtde, valor_unitario_2, valor_unitario, cod_vend, cod_clie, dcto_cod, embalagem_vend, cep]\n",
       "Index: []"
      ]
     },
     "metadata": {},
     "output_type": "display_data"
    }
   ],
   "source": [
    "conn = get_db_engine() \n",
    "\n",
    "def vendas_query(conn):\n",
    "    query = (f\"\"\"\n",
    "        SELECT \n",
    "                mprd.mprd_transacao AS transacao,\n",
    "                clie.clie_cnpjcpf AS cnpj_cpf,\n",
    "                clie.clie_nome AS nome_clie,\n",
    "                mprd.mprd_datamvto AS data_mvto,\n",
    "                mprd.mprd_numerodcto AS nfe,\n",
    "                prod.prod_codbarras AS cod_barras,\n",
    "                prod.prod_pesoliq AS peso,\n",
    "                mprd_prod_codigo::TEXT AS cod_prod,\n",
    "                TO_CHAR(mprd.mprd_qtde, '00000000000999D9999') AS qtde,\n",
    "                TO_CHAR((mprd.mprd_valor / mprd.mprd_qtde), '00999D99') AS valor_unitario_2,\n",
    "                TO_CHAR(mprd.mprd_vlrunitario, '00999D99') AS valor_unitario,\n",
    "                mprc.mprc_vend_codigo AS cod_vend,\n",
    "                mprc.mprc_codentidade AS cod_clie,\n",
    "                mprd.mprd_dcto_codigo AS dcto_cod,\n",
    "                prun.prun_emb AS embalagem_vend,\n",
    "                SUBSTRING(clie.clie_cepres, 1,5) ||'-'|| SUBSTRING(clie.clie_cepres, 6,3) AS cep\n",
    "            FROM movprodd0722 AS mprd\n",
    "            LEFT JOIN movprodc AS mprc ON mprd.mprd_transacao = mprc.mprc_transacao\n",
    "            LEFT JOIN produtos AS prod ON mprd.mprd_prod_codigo = prod.prod_codigo\n",
    "            LEFT JOIN clientes AS clie ON mprc.mprc_codentidade = clie.clie_codigo\n",
    "            LEFT JOIN (\n",
    "                SELECT prun_prod_codigo, prun_emb\n",
    "                FROM produn\n",
    "                WHERE prun_unid_codigo = '010'\n",
    "                ORDER BY prun_prod_codigo, prun_emb\n",
    "            ) AS prun ON mprd.mprd_prod_codigo = prun.prun_prod_codigo\n",
    "            WHERE mprd_status = 'N'\n",
    "            AND mprd_unid_codigo = '010'\n",
    "            AND prod.prod_marca IN ('BRF', 'BRF IN NATURA')\n",
    "            AND mprd.mprd_dcto_codigo IN ('6666','6668','7339','7335','7338','7337','7260','7263','7262','7268','7264','7269','7267','7319','7318', '6680','6890')\n",
    "            AND mprc.mprc_vend_codigo NOT IN ('0','00','000','0000','')\n",
    "            AND mprd.mprd_vlrunitario NOT IN ('0.0100000000')\n",
    "            AND clie.clie_cepres NOT IN ('00000-000','','0','00000','00000000')\n",
    "            AND clie.clie_cepres > '0'\n",
    "            AND clie.clie_cepres NOT IN ('')\n",
    "            AND prod.prod_codbarras = '7891515969509'\n",
    "    \"\"\")\n",
    "        # AND mprd.mprd_datamvto > '2023-01-09'\n",
    "    \n",
    "    df = pd.read_sql_query(query, conn)\n",
    "    return df\n",
    "\n",
    "display(vendas_query(conn))"
   ]
  }
 ],
 "metadata": {
  "kernelspec": {
   "display_name": ".venv",
   "language": "python",
   "name": "python3"
  },
  "language_info": {
   "codemirror_mode": {
    "name": "ipython",
    "version": 3
   },
   "file_extension": ".py",
   "mimetype": "text/x-python",
   "name": "python",
   "nbconvert_exporter": "python",
   "pygments_lexer": "ipython3",
   "version": "3.11.4"
  },
  "orig_nbformat": 4
 },
 "nbformat": 4,
 "nbformat_minor": 2
}
