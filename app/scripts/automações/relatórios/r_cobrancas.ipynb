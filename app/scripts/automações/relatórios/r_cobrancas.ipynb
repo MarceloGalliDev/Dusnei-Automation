{
 "cells": [
  {
   "cell_type": "code",
   "execution_count": 1,
   "metadata": {},
   "outputs": [],
   "source": [
    "import os\n",
    "import openpyxl\n",
    "import locale\n",
    "import pandas as pd\n",
    "from datetime import datetime, timedelta\n",
    "from dotenv import load_dotenv\n",
    "from sqlalchemy import create_engine, exc\n",
    "\n",
    "load_dotenv()\n",
    "\n",
    "path_dados = os.getenv('DUSNEI_DATA_DIRECTORY_RELATORIO_OUTROS')"
   ]
  },
  {
   "cell_type": "code",
   "execution_count": 2,
   "metadata": {},
   "outputs": [],
   "source": [
    "def get_db_engine():\n",
    "    try:\n",
    "        db_url = os.getenv('DUSNEI_URL')\n",
    "        engine = create_engine(db_url)\n",
    "        # Test connection\n",
    "        with engine.connect() as connection:\n",
    "            print('Conexão estabelecida!')\n",
    "            pass\n",
    "        print('Banco de dados conectado!')\n",
    "        return engine\n",
    "    except exc.SQLAlchemyError as e:\n",
    "        print(f\"Error: {e}\")\n",
    "        return None\n",
    "        "
   ]
  },
  {
   "cell_type": "code",
   "execution_count": 45,
   "metadata": {},
   "outputs": [],
   "source": [
    "def query_dados(conn):  \n",
    "    query = (f\"\"\"\n",
    "        (\n",
    "            SELECT \n",
    "                pfin.pfin_datavcto AS datavcto, \n",
    "                pfin.pfin_unid_codigo AS unid_cod, \n",
    "                pfin.pfin_vend_codigo AS vend_cod, \n",
    "                pfin.pfin_codentidade AS entidade_cod, \n",
    "                pfin.pfin_cnpjcpf AS cnpj, \n",
    "                pfin.pfin_numerodcto AS nota, \n",
    "                pfin.pfin_valor AS valor, \n",
    "                pger.pger_descricao AS descricao, \n",
    "                clie.clie_nome AS clie_nome, \n",
    "                clie.clie_razaosocial AS razaosocial,\n",
    "                clie.clie_foneres AS fone_res,\n",
    "                clie.clie_fonecel AS fone_cel,\n",
    "                vend.vend_nome AS vend_nome, \n",
    "                vend.vend_supe_codigo AS supe_cod,\n",
    "                CONCAT(vend.vend_extra16, vend.vend_extra15) AS vend_cel,\n",
    "                supe.supe_nome AS supe_nome\n",
    "                FROM pendfin AS pfin\n",
    "                LEFT JOIN planoger AS pger ON pfin.pfin_pger_conta = pger.pger_conta\n",
    "                LEFT JOIN clientes AS clie ON pfin.pfin_codentidade = clie.clie_codigo\n",
    "                LEFT JOIN vendedores AS vend ON clie.clie_vend_codigo = vend.vend_codigo\n",
    "                LEFT JOIN supervisores AS supe ON vend.vend_supe_codigo = supe.supe_codigo\n",
    "                WHERE pfin.pfin_status = 'P'\n",
    "                AND pfin.pfin_datavcto < CURRENT_DATE\n",
    "                AND pfin.pfin_pger_conta IN ('112131','112140','112201','112202','112203')\n",
    "                ORDER BY pfin.pfin_datavcto DESC\n",
    "        )  \n",
    "    \"\"\")\n",
    "    \n",
    "    df = pd.read_sql_query(query, conn)\n",
    "       \n",
    "    return df"
   ]
  },
  {
   "cell_type": "code",
   "execution_count": 46,
   "metadata": {},
   "outputs": [],
   "source": [
    "def gerar_excel(df, ws):\n",
    "    df_resumo = df.groupby(['cod_fpgt','fpgt_nome'], as_index=False)['valor_liq'].sum()\n",
    "\n",
    "    ws.title = f\"F.Pgto\"\n",
    "  \n",
    "    columns_title = [\n",
    "        'CodPgto','Descrição','Valor'\n",
    "    ]\n",
    "    \n",
    "    for col_num, column_title in enumerate(columns_title, 1):\n",
    "        ws.cell(row=1, column=col_num).value = column_title\n",
    "\n",
    "    for index, row in enumerate(df_resumo.itertuples(), start=2):\n",
    "        ws.cell(row=index, column=1).value = row.cod_fpgt\n",
    "        ws.cell(row=index, column=2).value = row.fpgt_nome\n",
    "        ws.cell(row=index, column=3).value = row.valor_liq\n",
    "        ws.cell(row=index, column=3).number_format = 'R$ #,##0.00'\n"
   ]
  },
  {
   "cell_type": "code",
   "execution_count": 47,
   "metadata": {},
   "outputs": [
    {
     "name": "stdout",
     "output_type": "stream",
     "text": [
      "Conexão estabelecida!\n",
      "Banco de dados conectado!\n"
     ]
    }
   ],
   "source": [
    "def teste_loop():\n",
    "    conn = get_db_engine()\n",
    "       \n",
    "    locale.setlocale(locale.LC_MONETARY, 'pt-BR.UTF-8')\n",
    "\n",
    "    tables = [\n",
    "        'movprodd0123', 'movprodd0223', 'movprodd0323', 'movprodd0423', 'movprodd0523', 'movprodd0623', \n",
    "        'movprodd0723', 'movprodd0823', 'movprodd0923', 'movprodd1023', 'movprodd1123', 'movprodd1223'\n",
    "    ]\n",
    "    wb = openpyxl.Workbook()\n",
    "    \n",
    "    for table in tables:\n",
    "        df = query_dados(conn, table)\n",
    "\n",
    "        ws = wb.create_sheet(title=table)\n",
    "        ws.append(['CodPgto', 'NomePgto', 'ValorTotal'])\n",
    "\n",
    "        for row in df.itertuples(index=False):\n",
    "            ws.append([row.cod_fpgt, row.fpgt_nome, row.valor_liq])\n",
    "            ws.cell(row=ws.max_row, column=3).number_format = 'R$ #,##0.00'\n",
    "    \n",
    "    if 'Sheet' in wb.sheetnames:\n",
    "        wb.remove(wb['Sheet'])\n",
    "    \n",
    "    data_pasta = datetime.now().strftime(\"%Y-%m-%d\")\n",
    "    nome_arquivo = f'F.Pgto-{data_pasta}.xlsx'\n",
    "    diretorio = os.path.join(path_dados, 'outros', data_pasta)\n",
    "    if not os.path.exists(diretorio):\n",
    "        os.mkdir(diretorio)\n",
    "    local_arquivo = os.path.join(diretorio, nome_arquivo)\n",
    "    wb.save(local_arquivo)\n",
    "\n",
    "teste_loop()"
   ]
  }
 ],
 "metadata": {
  "kernelspec": {
   "display_name": ".venv",
   "language": "python",
   "name": "python3"
  },
  "language_info": {
   "codemirror_mode": {
    "name": "ipython",
    "version": 3
   },
   "file_extension": ".py",
   "mimetype": "text/x-python",
   "name": "python",
   "nbconvert_exporter": "python",
   "pygments_lexer": "ipython3",
   "version": "3.11.4"
  }
 },
 "nbformat": 4,
 "nbformat_minor": 2
}
