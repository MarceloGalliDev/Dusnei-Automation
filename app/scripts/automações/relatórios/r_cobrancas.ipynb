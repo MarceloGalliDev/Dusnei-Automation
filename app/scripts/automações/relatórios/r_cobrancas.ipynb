{
 "cells": [
  {
   "cell_type": "code",
   "execution_count": 8,
   "metadata": {},
   "outputs": [],
   "source": [
    "import os\n",
    "import openpyxl\n",
    "import locale\n",
    "import pandas as pd\n",
    "from datetime import datetime, timedelta\n",
    "from dotenv import load_dotenv\n",
    "from sqlalchemy import create_engine, exc\n",
    "\n",
    "load_dotenv()\n",
    "\n",
    "path_dados = os.getenv('DUSNEI_DATA_DIRECTORY_RELATORIO_OUTROS')"
   ]
  },
  {
   "cell_type": "code",
   "execution_count": 9,
   "metadata": {},
   "outputs": [],
   "source": [
    "def get_db_engine():\n",
    "    try:\n",
    "        db_url = os.getenv('DUSNEI_URL')\n",
    "        engine = create_engine(db_url)\n",
    "        # Test connection\n",
    "        with engine.connect() as connection:\n",
    "            print('Conexão estabelecida!')\n",
    "            pass\n",
    "        print('Banco de dados conectado!')\n",
    "        return engine\n",
    "    except exc.SQLAlchemyError as e:\n",
    "        print(f\"Error: {e}\")\n",
    "        return None\n",
    "        "
   ]
  },
  {
   "cell_type": "code",
   "execution_count": 22,
   "metadata": {},
   "outputs": [],
   "source": [
    "def query_dados(conn):  \n",
    "    query = (f\"\"\"\n",
    "        (\n",
    "            SELECT \n",
    "                pfin.pfin_datavcto AS datavcto, \n",
    "                pfin.pfin_unid_codigo AS unid_cod,\n",
    "                pfin.pfin_codentidade AS entidade_cod, \n",
    "                pfin.pfin_cnpjcpf AS cnpjcpf, \n",
    "                pfin.pfin_numerodcto AS nota, \n",
    "                pfin.pfin_valor AS valor,\n",
    "                pfin.pfin_pger_conta::text AS pger_conta,\n",
    "                pger.pger_descricao AS descricao, \n",
    "                clie.clie_nome AS clie_nome, \n",
    "                clie.clie_razaosocial AS razaosocial,\n",
    "                clie.clie_foneres AS fone_res,\n",
    "                clie.clie_fonecel AS fone_cel,\n",
    "                vend.vend_codigo AS vend_cod,\n",
    "                vend.vend_nome AS vend_nome, \n",
    "                vend.vend_supe_codigo AS supe_cod,\n",
    "                CONCAT(vend.vend_extra16, vend.vend_extra15) AS vend_cel,\n",
    "                supe.supe_nome AS supe_nome\n",
    "                FROM pendfin AS pfin\n",
    "                LEFT JOIN planoger AS pger ON pfin.pfin_pger_conta = pger.pger_conta\n",
    "                LEFT JOIN clientes AS clie ON pfin.pfin_codentidade = clie.clie_codigo\n",
    "                LEFT JOIN vendedores AS vend ON clie.clie_vend_codigo = vend.vend_codigo\n",
    "                LEFT JOIN supervisores AS supe ON vend.vend_supe_codigo = supe.supe_codigo\n",
    "                WHERE pfin.pfin_status = 'P'\n",
    "                AND pfin.pfin_datavcto < CURRENT_DATE\n",
    "                AND pfin.pfin_pger_conta IN ('112131','112140','112201','112202','112203','112521')\n",
    "                ORDER BY pfin.pfin_datavcto DESC\n",
    "        )  \n",
    "    \"\"\")\n",
    "    \n",
    "    df = pd.read_sql_query(query, conn)\n",
    "       \n",
    "    return df"
   ]
  },
  {
   "cell_type": "code",
   "execution_count": 23,
   "metadata": {},
   "outputs": [],
   "source": [
    "def gerar_excel(df, ws):\n",
    "    ws.title = f\"cobranca\"\n",
    "  \n",
    "    columns_title = [\n",
    "        'Index','CodClie','Cliente','RazaoSocial','CNPJ/CPF','Nota','Valor','Tipo','Telefone','Celular','Unid','CodVend','Vendedor','VendCel','CodSupe','Supervisor','Horario','Envio'\n",
    "    ]\n",
    "    \n",
    "    for col_num, column_title in enumerate(columns_title, 1):\n",
    "        ws.cell(row=1, column=col_num).value = column_title\n",
    "\n",
    "    for index, row in enumerate(df.itertuples(), start=2):\n",
    "        horario = '-'\n",
    "        envio = '-'\n",
    "        \n",
    "        tipo = 'Boleto' if row.pger_conta in ['112131','112140','112201'] else 'Cheque'\n",
    "        \n",
    "        ws.cell(row=index, column=1).value = row.Index\n",
    "        ws.cell(row=index, column=2).value = row.entidade_cod\n",
    "        ws.cell(row=index, column=3).value = row.clie_nome\n",
    "        ws.cell(row=index, column=4).value = row.razaosocial\n",
    "        ws.cell(row=index, column=5).value = row.cnpjcpf\n",
    "        ws.cell(row=index, column=6).value = row.nota\n",
    "        ws.cell(row=index, column=7).value = row.valor\n",
    "        ws.cell(row=index, column=7).number_format = 'R$ #,##0.00'\n",
    "        ws.cell(row=index, column=8).value = tipo\n",
    "        ws.cell(row=index, column=9).value = row.fone_res\n",
    "        ws.cell(row=index, column=10).value = row.fone_cel\n",
    "        ws.cell(row=index, column=11).value = row.unid_cod\n",
    "        ws.cell(row=index, column=12).value = row.vend_cod\n",
    "        ws.cell(row=index, column=13).value = row.vend_nome\n",
    "        ws.cell(row=index, column=14).value = row.vend_cel\n",
    "        ws.cell(row=index, column=15).value = row.supe_cod\n",
    "        ws.cell(row=index, column=16).value = row.supe_nome\n",
    "        ws.cell(row=index, column=17).value = horario\n",
    "        ws.cell(row=index, column=18).value = envio"
   ]
  },
  {
   "cell_type": "code",
   "execution_count": 24,
   "metadata": {},
   "outputs": [
    {
     "name": "stdout",
     "output_type": "stream",
     "text": [
      "Conexão estabelecida!\n",
      "Banco de dados conectado!\n"
     ]
    }
   ],
   "source": [
    "def teste_loop():\n",
    "    conn = get_db_engine()  \n",
    "    locale.setlocale(locale.LC_MONETARY, 'pt-BR.UTF-8')\n",
    "\n",
    "    df = query_dados(conn)\n",
    "    wb = openpyxl.Workbook()\n",
    "    ws = wb.create_sheet(title=\"cobranca\")\n",
    "    \n",
    "    if 'Sheet' in wb.sheetnames:\n",
    "        wb.remove(wb['Sheet'])\n",
    "    \n",
    "    gerar_excel(df, ws)\n",
    "    \n",
    "    data_pasta = datetime.now().strftime(\"%Y-%m-%d\")\n",
    "    nome_arquivo = f'cobranca-{data_pasta}'\n",
    "    diretorio = os.path.join(path_dados, data_pasta, 'cobranca')\n",
    "\n",
    "    if not os.path.exists(diretorio):\n",
    "        os.makedirs(diretorio, exist_ok=True)\n",
    "\n",
    "    local_arquivo = os.path.join(diretorio, f'{nome_arquivo}.xlsx')\n",
    "    wb.save(local_arquivo)\n",
    "\n",
    "teste_loop()"
   ]
  }
 ],
 "metadata": {
  "kernelspec": {
   "display_name": ".venv",
   "language": "python",
   "name": "python3"
  },
  "language_info": {
   "codemirror_mode": {
    "name": "ipython",
    "version": 3
   },
   "file_extension": ".py",
   "mimetype": "text/x-python",
   "name": "python",
   "nbconvert_exporter": "python",
   "pygments_lexer": "ipython3",
   "version": "3.11.4"
  }
 },
 "nbformat": 4,
 "nbformat_minor": 2
}
